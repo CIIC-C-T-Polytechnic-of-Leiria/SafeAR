{
 "cells": [
  {
   "cell_type": "code",
   "execution_count": 1,
   "metadata": {},
   "outputs": [
    {
     "name": "stdout",
     "output_type": "stream",
     "text": [
      "onnxruntime version:  1.17.1\n"
     ]
    }
   ],
   "source": [
    "import onnxruntime\n",
    "print(\"onnxruntime version: \", onnxruntime.__version__)"
   ]
  },
  {
   "cell_type": "code",
   "execution_count": 4,
   "metadata": {},
   "outputs": [
    {
     "name": "stdout",
     "output_type": "stream",
     "text": [
      "ONNX Runtime device: GPU\n"
     ]
    }
   ],
   "source": [
    "# check if gpu is available\n",
    "import onnxruntime as rt\n",
    "\n",
    "# Get the current device being used by ONNX Runtime\n",
    "device = rt.get_device()\n",
    "print(\"ONNX Runtime device:\", device)"
   ]
  },
  {
   "cell_type": "code",
   "execution_count": 2,
   "metadata": {},
   "outputs": [
    {
     "name": "stdout",
     "output_type": "stream",
     "text": [
      "Found existing installation: onnxruntime 1.17.1\n",
      "Uninstalling onnxruntime-1.17.1:\n",
      "  Would remove:\n",
      "    /home/tiagociic/miniconda3/envs/safeAR/bin/onnxruntime_test\n",
      "    /home/tiagociic/miniconda3/envs/safeAR/lib/python3.10/site-packages/onnxruntime-1.17.1.dist-info/*\n",
      "    /home/tiagociic/miniconda3/envs/safeAR/lib/python3.10/site-packages/onnxruntime/*\n",
      "Proceed (Y/n)? ^C\n",
      "\u001b[31mERROR: Operation cancelled by user\u001b[0m\u001b[31m\n",
      "\u001b[0mCollecting onnxruntime-gpu\n",
      "  Using cached onnxruntime_gpu-1.17.1-cp310-cp310-manylinux_2_28_x86_64.whl.metadata (4.3 kB)\n",
      "Requirement already satisfied: coloredlogs in /home/tiagociic/miniconda3/envs/safeAR/lib/python3.10/site-packages (from onnxruntime-gpu) (15.0.1)\n",
      "Requirement already satisfied: flatbuffers in /home/tiagociic/miniconda3/envs/safeAR/lib/python3.10/site-packages (from onnxruntime-gpu) (24.3.25)\n",
      "Requirement already satisfied: numpy>=1.21.6 in /home/tiagociic/miniconda3/envs/safeAR/lib/python3.10/site-packages (from onnxruntime-gpu) (1.26.4)\n",
      "Requirement already satisfied: packaging in /home/tiagociic/.local/lib/python3.10/site-packages (from onnxruntime-gpu) (23.2)\n",
      "Requirement already satisfied: protobuf in /home/tiagociic/miniconda3/envs/safeAR/lib/python3.10/site-packages (from onnxruntime-gpu) (5.26.1)\n",
      "Requirement already satisfied: sympy in /home/tiagociic/miniconda3/envs/safeAR/lib/python3.10/site-packages (from onnxruntime-gpu) (1.12)\n",
      "Requirement already satisfied: humanfriendly>=9.1 in /home/tiagociic/miniconda3/envs/safeAR/lib/python3.10/site-packages (from coloredlogs->onnxruntime-gpu) (10.0)\n",
      "Requirement already satisfied: mpmath>=0.19 in /home/tiagociic/miniconda3/envs/safeAR/lib/python3.10/site-packages (from sympy->onnxruntime-gpu) (1.3.0)\n",
      "Using cached onnxruntime_gpu-1.17.1-cp310-cp310-manylinux_2_28_x86_64.whl (192.1 MB)\n",
      "Installing collected packages: onnxruntime-gpu\n",
      "Successfully installed onnxruntime-gpu-1.17.1\n"
     ]
    }
   ],
   "source": [
    "!pip uninstall onnxruntime\n",
    "!pip install onnxruntime-gpu"
   ]
  },
  {
   "cell_type": "code",
   "execution_count": 3,
   "metadata": {},
   "outputs": [
    {
     "name": "stdout",
     "output_type": "stream",
     "text": [
      "nvcc: NVIDIA (R) Cuda compiler driver\n",
      "Copyright (c) 2005-2021 NVIDIA Corporation\n",
      "Built on Thu_Nov_18_09:45:30_PST_2021\n",
      "Cuda compilation tools, release 11.5, V11.5.119\n",
      "Build cuda_11.5.r11.5/compiler.30672275_0\n"
     ]
    }
   ],
   "source": [
    "!nvcc --version"
   ]
  }
 ],
 "metadata": {
  "kernelspec": {
   "display_name": "safeAR",
   "language": "python",
   "name": "python3"
  },
  "language_info": {
   "codemirror_mode": {
    "name": "ipython",
    "version": 3
   },
   "file_extension": ".py",
   "mimetype": "text/x-python",
   "name": "python",
   "nbconvert_exporter": "python",
   "pygments_lexer": "ipython3",
   "version": "3.10.14"
  }
 },
 "nbformat": 4,
 "nbformat_minor": 2
}
