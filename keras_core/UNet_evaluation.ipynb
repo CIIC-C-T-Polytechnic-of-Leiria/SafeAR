{
 "cells": [
  {
   "cell_type": "markdown",
   "metadata": {},
   "source": [
    "**Idea**: Implement Context Encoder + SRCNN  \n",
    "**Framework**: Keras-Core  \n",
    "**Date**: 02/11/2023  "
   ]
  },
  {
   "cell_type": "code",
   "execution_count": 6,
   "metadata": {},
   "outputs": [],
   "source": [
    "'general use imports'\n",
    "import os\n",
    "import wget\n",
    "import tarfile\n",
    "\n",
    "'machine learning imports'\n",
    "import keras_core as keras\n",
    "os.environ[\"KERAS_BACKEND\"] = \"tensorflow\""
   ]
  },
  {
   "cell_type": "markdown",
   "metadata": {},
   "source": [
    "### Data"
   ]
  },
  {
   "cell_type": "code",
   "execution_count": 11,
   "metadata": {},
   "outputs": [
    {
     "data": {
      "text/plain": [
       "'data_voc2007/VOCtrainval_06-Nov-2007.tar'"
      ]
     },
     "execution_count": 11,
     "metadata": {},
     "output_type": "execute_result"
    }
   ],
   "source": [
    "# Downloading the data\n",
    "url_voc = \"http://host.robots.ox.ac.uk/pascal/VOC/voc2007/VOCtrainval_06-Nov-2007.tar\"\n",
    "os.makedirs(os.path.join(\".\", \"data_voc2007\"), exist_ok=True)\n",
    "wget.download(url = url_voc, out = \"data_voc2007\")\n",
    "\n",
    "# Extracting the data\n",
    "tar = tarfile.open(\"data_voc2007/VOCtrainval_06-Nov-2007.tar\")\n",
    "tar.extractall(\"data_voc2007\")\n",
    "tar.close()\n",
    "os.remove(\"data_voc2007/VOCtrainval_06-Nov-2007.tar\")"
   ]
  },
  {
   "cell_type": "code",
   "execution_count": 24,
   "metadata": {},
   "outputs": [],
   "source": [
    "# Extracting the data\n",
    "tar = tarfile.open(\"data_voc2007/VOCtrainval_06-Nov-2007.tar\")\n",
    "tar.extractall(\"data_voc2007\")\n",
    "tar.close()\n",
    "os.remove(\"data_voc2007/VOCtrainval_06-Nov-2007.tar\")"
   ]
  },
  {
   "cell_type": "code",
   "execution_count": 22,
   "metadata": {},
   "outputs": [],
   "source": [
    "class UNet(keras.Model):\n",
    "    \"\"\"\t\n",
    "    U-Net model class.\n",
    "    \"\"\"\n",
    "    def __init__(self, conv_type='Conv2D', activation='LeakyReLU', \n",
    "    residual=False, attention=False, filters=64, filter_size=3, num_classes=1):\n",
    "        super(UNet, self).__init__()\n",
    "        self.conv_type = conv_type\n",
    "        self.activation = activation\n",
    "        self.residual = residual\n",
    "        self.attention = attention\n",
    "        self.filters = filters\n",
    "        self.filter_size = filter_size\n",
    "        self.num_classes = num_classes\n",
    "\n",
    "    def call(self, inputs, training=False):\n",
    "        # Encoder\n",
    "        x = self.conv_block(inputs, self.filters, self.filter_size)\n",
    "        p1 = self.conv_block(x, self.filters*2, self.filter_size)\n",
    "        p2 = self.conv_block(p1, self.filters*4, self.filter_size)\n",
    "        p3 = self.conv_block(p2, self.filters*8, self.filter_size)\n",
    "\n",
    "        # Bottleneck\n",
    "        x = self.conv_block(p3, self.filters*16, self.filter_size)\n",
    "\n",
    "        # Decoder\n",
    "        x = self.up_conv(x, self.filters*8, self.filter_size)\n",
    "        x = Concatenate(axis=-1)([x, p3])\n",
    "        x = self.conv_block(x, self.filters*8, self.filter_size)\n",
    "\n",
    "        x = self.up_conv(x, self.filters*4, self.filter_size)\n",
    "        x = Concatenate(axis=-1)([x, p2])\n",
    "        x = self.conv_block(x, self.filters*4, self.filter_size)\n",
    "\n",
    "        x = self.up_conv(x, self.filters*2, self.filter_size)\n",
    "        x = Concatenate(axis=-1)([x, p1])\n",
    "        x = self.conv_block(x, self.filters*2, self.filter_size)\n",
    "\n",
    "        x = self.up_conv(x, self.filters, self.filter_size)\n",
    "        x = Concatenate(axis=-1)([x, inputs])\n",
    "        x = self.conv_block(x, self.filters, self.filter_size)\n",
    "\n",
    "        # Output\n",
    "        activation = 'sigmoid' if self.num_classes == 1 else 'softmax'\n",
    "        outputs = Conv2D(self.num_classes, (1, 1), activation=activation)(x)\n",
    "\n",
    "        return outputs\n",
    "\n",
    "    def conv_block(self, inputs, filters, filter_size):\n",
    "        x = self.conv_layer(inputs, filters, filter_size)\n",
    "        x = Activation(self.activation)(x)\n",
    "        x = self.conv_layer(x, filters, filter_size)\n",
    "        x = Activation(self.activation)(x)\n",
    "        return x\n",
    "\n",
    "    def conv_layer(self, inputs, filters, filter_size):\n",
    "        if self.conv_type == 'Conv2D':\n",
    "            return Conv2D(filters, (filter_size, filter_size), padding='same')(inputs)\n",
    "        elif self.conv_type == 'DepthwiseSeparableConv2D':\n",
    "            return DepthwiseSeparableConv2D(filters, (filter_size, filter_size), padding='same')(inputs)\n",
    "        elif self.conv_type == 'DilatedConv2D':\n",
    "            return DilatedConv2D(filters, (filter_size, filter_size), dilation_rate=2, padding='same')(inputs)\n",
    "\n",
    "    def up_conv(self, inputs, filters, filter_size):\n",
    "        x = UpSampling2D((2, 2))(inputs)\n",
    "        x = Conv2D(filters, (filter_size, filter_size), padding='same')(x)\n",
    "        x = Activation(self.activation)(x)\n",
    "        return x"
   ]
  },
  {
   "cell_type": "code",
   "execution_count": 23,
   "metadata": {},
   "outputs": [],
   "source": [
    "model = UNet()"
   ]
  },
  {
   "cell_type": "code",
   "execution_count": null,
   "metadata": {},
   "outputs": [],
   "source": [
    "# plot some images from the dataset\n",
    "import matplotlib.pyplot as plt\n",
    "import numpy as np\n",
    "import cv2\n",
    "import random\n",
    "from tqdm import tqdm\n",
    "from PIL import Image\n"
   ]
  }
 ],
 "metadata": {
  "kernelspec": {
   "display_name": "safe_ar",
   "language": "python",
   "name": "python3"
  },
  "language_info": {
   "codemirror_mode": {
    "name": "ipython",
    "version": 3
   },
   "file_extension": ".py",
   "mimetype": "text/x-python",
   "name": "python",
   "nbconvert_exporter": "python",
   "pygments_lexer": "ipython3",
   "version": "3.10.13"
  }
 },
 "nbformat": 4,
 "nbformat_minor": 2
}
