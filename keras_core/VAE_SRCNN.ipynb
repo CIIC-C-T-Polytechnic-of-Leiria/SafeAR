{
 "cells": [
  {
   "cell_type": "markdown",
   "metadata": {},
   "source": [
    "**Idea**: Implement Context Encoder + SRCNN  \n",
    "**Framework**: Keras-Core  \n",
    "**Date**: 02/11/2023  "
   ]
  },
  {
   "cell_type": "code",
   "execution_count": 3,
   "metadata": {},
   "outputs": [
    {
     "name": "stdout",
     "output_type": "stream",
     "text": [
      "Using TensorFlow backend\n"
     ]
    }
   ],
   "source": [
    "import keras_core as keras\n",
    "import os\n",
    "os.environ[\"KERAS_BACKEND\"] = \"tensorflow\""
   ]
  },
  {
   "cell_type": "code",
   "execution_count": null,
   "metadata": {},
   "outputs": [],
   "source": [
    "# define function for Context Encoder only\n",
    "class ContextEncoder:\n",
    "    def __init__(self, input_shape, latent_dim, kernel_size, filters, strides):\n",
    "        self.input_shape = input_shape\n",
    "        self.mask_shape = (input_shape[0], input_shape[1], 1)\n",
    "        self.num_classes = 2             # binary classification\n",
    "        self.latent_dim = latent_dim\n",
    "        self.kernel_size = kernel_size\n",
    "        self.filters = filters\n",
    "        self.strides = strides\n",
    "\n",
    "    def build_generator(self):\n",
    "        \"\"\"\"\n",
    "            U-Net based generator with\n",
    "        \"\"\"\n",
    "        # Encoder\n",
    "        inputs = keras.layers.Input(shape=self.input_shape, name='encoder_input')\n",
    "        x = inputs\n",
    "        x = keras.layers.Conv2D(filters=self.filters, kernel_size=self.kernel_size, strides=self.strides, padding='same', name='encoder_conv_1')(x)\n",
    "        x = keras.layers.BatchNormalization()(x)\n",
    "        x = keras.layers.LeakyReLU()(x)\n",
    "        x = keras.layers.Conv2D(filters=self.filters*2, kernel_size=self.kernel_size, strides=self.strides, padding='same', name='encoder_conv_2')(x)\n",
    "        x = keras.layers.BatchNormalization()(x)\n",
    "        x = keras.layers.LeakyReLU()(x)\n",
    "        x = keras.layers.Conv2D(filters=self.filters*4, kernel_size=self.kernel_size, strides=self.strides, padding='same', name='encoder_conv_3')(x)\n",
    "        x = keras.layers.BatchNormalization()(x)\n",
    "        x = keras.layers.LeakyReLU()(x)\n",
    "        x = keras.layers.Conv2D(filters=self.filters*8, kernel_size=self.kernel_size, strides=self.strides, padding='same', name='encoder_conv_4')(x)\n",
    "        x = keras.layers.BatchNormalization()(x)\n",
    "        x = keras.layers.LeakyReLU()(x)\n",
    "        x = keras.layers.Conv2D(filters=self.filters*8, kernel_size=self.kernel_size, strides=self.strides, padding='same', name='encoder_conv_5')(x)\n",
    "        x = keras.layers.BatchNormalization()(x)"
   ]
  }
 ],
 "metadata": {
  "kernelspec": {
   "display_name": "safe_ar",
   "language": "python",
   "name": "python3"
  },
  "language_info": {
   "codemirror_mode": {
    "name": "ipython",
    "version": 3
   },
   "file_extension": ".py",
   "mimetype": "text/x-python",
   "name": "python",
   "nbconvert_exporter": "python",
   "pygments_lexer": "ipython3",
   "version": "3.10.13"
  }
 },
 "nbformat": 4,
 "nbformat_minor": 2
}
