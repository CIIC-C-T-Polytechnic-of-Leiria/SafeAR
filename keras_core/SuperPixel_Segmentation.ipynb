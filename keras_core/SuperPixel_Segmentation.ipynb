{
 "cells": [
  {
   "cell_type": "code",
   "execution_count": null,
   "metadata": {},
   "outputs": [],
   "source": [
    "import cv2 \n",
    "import numpy as np\n",
    "import matplotlib.pyplot as plt"
   ]
  },
  {
   "cell_type": "code",
   "execution_count": null,
   "metadata": {},
   "outputs": [],
   "source": [
    "def superpixels_cv(image, num_superpixels=200):\n",
    "    # Convert the image to the LAB color space\n",
    "    lab_image = cv2.cvtColor(np.array(image), cv2.COLOR_RGB2LAB)\n",
    "\n",
    "    # Perform SLIC superpixel segmentation\n",
    "    slic = cv2.ximgproc.createSuperpixelSLIC(lab_image, region_size=15, ruler=3)\n",
    "    slic.iterate(10)\n",
    "\n",
    "    # Get the superpixel labels\n",
    "    labels = slic.getLabels()\n",
    "\n",
    "    # Create a mask for each superpixel\n",
    "    masks = np.zeros((labels.shape[0], labels.shape[1], num_superpixels), dtype=np.uint8)\n",
    "    for i in range(num_superpixels):\n",
    "        masks[:, :, i] = (labels == i).astype(np.uint8) * 255\n",
    "\n",
    "    return masks"
   ]
  },
  {
   "cell_type": "code",
   "execution_count": null,
   "metadata": {},
   "outputs": [],
   "source": [
    "def superpixels_skt(image, num_superpixels=200, num_clusters=3):\n",
    "    # Convert the image to float and normalize to [0, 1]\n",
    "    image = img_as_float(image)\n",
    "\n",
    "    # Perform SLIC superpixel segmentation\n",
    "    segments = slic(image, n_segments=num_superpixels, compactness=10)\n",
    "\n",
    "    # Reshape the segmentation to be a 2D array\n",
    "    segments_2d = segments.reshape(-1, 1)\n",
    "\n",
    "    # Perform K-means clustering on the superpixel labels\n",
    "    kmeans = KMeans(n_clusters=num_clusters)\n",
    "    kmeans.fit(segments_2d)\n",
    "\n",
    "    # Get the cluster labels\n",
    "    labels = kmeans.labels_\n",
    "\n",
    "    # Reshape the labels back to the original image shape\n",
    "    labels = labels.reshape(segments.shape)\n",
    "\n",
    "    # Create a mask for each cluster\n",
    "    masks = np.zeros((labels.shape[0], labels.shape[1], num_clusters), dtype=np.uint8)\n",
    "    for i in range(num_clusters):\n",
    "        masks[:, :, i] = (labels == i).astype(np.uint8) * 255\n",
    "\n",
    "    return masks, segments"
   ]
  }
 ],
 "metadata": {
  "language_info": {
   "name": "python"
  }
 },
 "nbformat": 4,
 "nbformat_minor": 2
}
